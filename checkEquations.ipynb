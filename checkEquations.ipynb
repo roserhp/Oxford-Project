{
 "cells": [
  {
   "cell_type": "code",
   "execution_count": 2,
   "metadata": {},
   "outputs": [],
   "source": [
    "# Import necessary libraries\n",
    "import numpy as np\n",
    "import sympy as sp \n",
    "# Define the variables\n",
    "p2222,p3333, p2233, p2244,p2333,p3344,p4444,p1,p2,p3,p4 = sp.symbols('p2222,p3333 p2233 p2244 p2333 p3344 p4444 p1 p2 p3 p4')\n",
    "\n",
    "# Define the polynomials\n",
    "#pR3Eq2 = p2333*(p2-p1)*p1*p2*(p3+p4)**2 +p2244*p1*p2*(p1+p2)*(p3+p4)**2-p4444*(p1**3+p2**3)*(p3+p4)**2+p3344*p1**2+p2**2*p3*p4*(p1+p2)**2  # rank 3 second equation (Niharika)\n",
    "\n",
    "pR3Eq2AK =-p2244+p3344*p1*p2*p3*p4*(p1+p2)*((p1+p2)-(p3+p4))/((p3+p4)**2*((p1+p2)**2+(p3+p4)**2-(p1+p2)*(p3+p4)))\n",
    "+p4444*(p1**3+p2**3)*(p3+p4)/((p1+p2)*p1*p2*(p1+p2)**2+(p3+p4)**2-(p1+p2)*(p3+p4))+p2333*(p1*p2*(p1+p2)**2+2*p1*p2*(p3+p4)**2-(p3+p4)*p1**2-(p3+p4)*p2**2)/(p1*p2*(p1+p2)**2+(p3+p4)**2-(p1+p2)*(p3+p4))  # rank 3 second equation (Annachiara)\n",
    "\n",
    "\n",
    "pR3Eq2 = ((p1+p2+p3+p4)/(p1**4*p2**3*p3*p4+p1**3*p2**4*p3*p4))*p2244\n",
    "+((-1)/(p1**2*p2**2*p3**2+2*p1**2*p2**2*p3*p4+p1**2*p2**2*p4**2))*p3344\n",
    "+((p1**2-2*p1*p2+p2**2)/(p1**5*p2**4*p3*p4+p1**4*p2**5*p3*p4))*p2333\n",
    "+((-p1**2+p1*p2-p2**2)/(p1**5*p2**4*p3*p4+p1**4*p2**5*p3*p4))*p4444 # rank 3 second equation (Roser)\n",
    "\n",
    "#pR3Eq1 = p2333*(p3-p4)*p3*p4*(p1+p2)**2 +p2233*p3*p4*(p1+p2)*(p1+p2)**2-p3333*(p3**3+p4**3)*(p1+p2)**2+p3344*p3**2+p4**2*p1*p2*(p3+p4)**2  # rank 3 first equation (Niharika)\n",
    "\n",
    "pR3Eq1AK = -p3344-p3344*p1*p2*p3*p4/((p3+p4)**2+(p1+p2)**2-(p1+p2)*(p3+p4))+p3333*(p1+p2)*(p3**3+p4**3)/(((p3+p4)**2+(p1+p2)**2-(p1+p2)*(p3+p4))*p3*p4*(p3+p4)) + p2233*(p1+p2)**2/p1*p2*p3*p4-p2333-p2333*(p1+p2)**2/p1*p2*p3*p4+p2333*(p3*p4*(p3+p4)**2-(p1+p2)*p3**2+2*p3*p4*(p1+p2)**2-(p1+p2)*p4**2)/(p3*p4*((p3+p4)**2+(p1+p2)**2-(p1+p2)*(p3+p4))) # rank 3 first equation (Annachiara)\n",
    "\n",
    "\n",
    "pR3Eq1 = ((-p1-p2-p3-p4)/(p1*p2*p3**4*p4**3+p1*p2*p3**3*p4**4))*p2233\n",
    "+((p3**2-p3*p4+p4**2)/(p1*p2*p3**5*p4**4+p1*p2*p3**4*p4**5))*p3333\n",
    "+(1/(p1**2*p3**2*p4**2+2*p1*p2*p3**2*p4**2+p2**2*p3**2*p4**2))*p3344\n",
    "+((-p3**2+2*p3*p4-p4**2)/(p1*p2*p3**5*p4**4+p1*p2*p3**4*p4**5))*p2333 # rank 3 first equation (Roser)\n",
    "\n",
    "pR13EqR=((p1+p2)/(p1**2*p2**2*p3+p1**2*p2**2*p4))*p3344+((p1**3*p2+2*p1**2*p2**2+p1*p2**3+p1**2*p2*p3+p1*p2**2*p3+p1**2*p2*p4+p1*p2**2*p4+p1**3-p1**2*p2-p1*p2**2+p2**3)/(p1**4*p2**4*p3*p4))*p2333+((-p1**3-p2**3)/(p1**4*p2**4*p3*p4))*p4444 \n",
    "\n",
    "pR13EqAK=-p4444*(p1**3+p2**3)*(p3+p4)/((p1+p2)*p1*p2*((p1+p2)**2+(p3+p4)**2-(p1+p2)*(p3+p4)))+p3344*(p1*p2*p3*p4)/((p1+p2)**2+(p3+p4)**2-(p1+p2)*(p3+p4))-p2333*(p1*p2*((p1+p2)-(p3+p4))**2-(p3+p4)**2*p1*p2-(p3+p4)*(p1-p2)**2)/(p1*p2*((p1+p2)**2+(p3+p4)**2-(p1+p2)*(p3+p4)))+p2333\n",
    "\n"
   ]
  },
  {
   "cell_type": "code",
   "execution_count": 3,
   "metadata": {},
   "outputs": [],
   "source": [
    "# Function to check if two fraction polynomials are equal at random points\n",
    "def evaluate_polynomials(ppR,ppAK):\n",
    "    # Generate random values for the variables\n",
    "    p2244_val = np.random.rand()  # Random number (scaled for better visibility)\n",
    "    p2333_val = np.random.rand()   # Random number (scaled for better visibility)\n",
    "    p3344_val = np.random.rand()  # Random number (scaled for better visibility)\n",
    "    p4444_val = np.random.rand()   # Random number (scaled for better visibility)\n",
    "    p3333_val = np.random.rand()  # Random number (scaled for better visibility)\n",
    "    p2233_val = np.random.rand()   \n",
    "    p1_val = np.random.rand()   \n",
    "    p2_val = np.random.rand()   \n",
    "    p3_val = np.random.rand()   \n",
    "    p4_val = 1-p1_val-p2_val-p3_val\n",
    "\n",
    "    # Check if z_val is valid (non-negative)\n",
    "    if p4_val < 0:\n",
    "        print(\"Generated values for p4<0. Regenerating...\")\n",
    "        return evaluate_polynomials(ppR,ppAK)  # Regenerate if invalid\n",
    "    \n",
    "    # Evaluate both polynomials\n",
    "    pR_value = ppR.subs({p2233: p2233_val, p3333: p3333_val,p2244: p2244_val, p2333: p2333_val,p3344: p3344_val,p4444: p4444_val,p1: p1_val, p2: p2_val,p3: p3_val,p4: p4_val})\n",
    "    pAK_value = ppAK.subs({p2233: p2233_val, p3333: p3333_val,p2244: p2244_val, p2333: p2333_val,p3344: p3344_val,p4444: p4444_val,p1: p1_val, p2: p2_val,p3: p3_val,p4: p4_val})\n",
    "    \n",
    "    print(f\"Evaluating at (p2233, p3333,p2244,p2333,p3344,p4444,p1,p2,p3,p4) = ({p2233_val:.4f}, {p3333_val:.4f},{p2244_val:.4f}, {p2333_val:.4f},{p3344_val:.4f}, {p4444_val:.4f},{p1_val:.4f},{p2_val:.4f},{p3_val:.4f},{p4_val:.4f}):\")\n",
    "    print(f\"ppR(p2233, p3333,p2244,p2333,p3344,p4444,p1,p2,p3,p4) = {pR_value}, ppAK(p2233, p3333,p2244,p2333,p3344,p4444,p1,p2,p3,p4) = {pAK_value}\")\n",
    "    \n",
    "    # Check if they are equal\n",
    "    return pR_value- pAK_value"
   ]
  },
  {
   "cell_type": "code",
   "execution_count": 4,
   "metadata": {},
   "outputs": [
    {
     "name": "stdout",
     "output_type": "stream",
     "text": [
      "Generated values for p4<0. Regenerating...\n",
      "Generated values for p4<0. Regenerating...\n",
      "Generated values for p4<0. Regenerating...\n",
      "Generated values for p4<0. Regenerating...\n",
      "Generated values for p4<0. Regenerating...\n",
      "Generated values for p4<0. Regenerating...\n",
      "Generated values for p4<0. Regenerating...\n",
      "Generated values for p4<0. Regenerating...\n",
      "Generated values for p4<0. Regenerating...\n",
      "Generated values for p4<0. Regenerating...\n",
      "Generated values for p4<0. Regenerating...\n",
      "Generated values for p4<0. Regenerating...\n",
      "Generated values for p4<0. Regenerating...\n",
      "Generated values for p4<0. Regenerating...\n",
      "Generated values for p4<0. Regenerating...\n",
      "Generated values for p4<0. Regenerating...\n",
      "Generated values for p4<0. Regenerating...\n",
      "Generated values for p4<0. Regenerating...\n",
      "Generated values for p4<0. Regenerating...\n",
      "Generated values for p4<0. Regenerating...\n",
      "Generated values for p4<0. Regenerating...\n",
      "Generated values for p4<0. Regenerating...\n",
      "Evaluating at (p2233, p3333,p2244,p2333,p3344,p4444,p1,p2,p3,p4) = (0.2543, 0.8981,0.6940, 0.4176,0.1884, 0.0916,0.5928,0.0886,0.0999,0.2188):\n",
      "ppR(p2233, p3333,p2244,p2333,p3344,p4444,p1,p2,p3,p4) = 321872.212732606, ppAK(p2233, p3333,p2244,p2333,p3344,p4444,p1,p2,p3,p4) = -0.692466534822811\n",
      "Are the polynomials in (4444) (2333) (3344) equal at the random point? No\n"
     ]
    }
   ],
   "source": [
    "# Evaluate the polynomials at a random point\n",
    "are_equal = evaluate_polynomials(pR3Eq2, pR3Eq2AK)\n",
    "#print(f\"Are the polynomials in (2244) (2333) (4444) (3344) equal at the random point? {'Yes' if are_equal==0 else 'No'}\")\n",
    "\n",
    "#are_equal = evaluate_polynomials(pR3Eq1, pR3Eq1AK)\n",
    "#print(f\"Are the polynomials in (3344) (2333) (3333) (2233) equal at the random point? {'Yes' if are_equal==0 else 'No'}\")\n",
    "\n",
    "#are_equal = evaluate_polynomials(pR13EqR, pR13EqAK)\n",
    "print(f\"Are the polynomials in (4444) (2333) (3344) equal at the random point? {'Yes' if are_equal==0 else 'No'}\")"
   ]
  },
  {
   "cell_type": "code",
   "execution_count": 8,
   "metadata": {},
   "outputs": [],
   "source": [
    "pR3Eq1 = ((-p1-p2-p3-p4)/(p1*p2*p3**4*p4**3+p1*p2*p3**3*p4**4))*p2233"
   ]
  }
 ],
 "metadata": {
  "kernelspec": {
   "display_name": "Python 3",
   "language": "python",
   "name": "python3"
  },
  "language_info": {
   "codemirror_mode": {
    "name": "ipython",
    "version": 3
   },
   "file_extension": ".py",
   "mimetype": "text/x-python",
   "name": "python",
   "nbconvert_exporter": "python",
   "pygments_lexer": "ipython3",
   "version": "3.10.5"
  }
 },
 "nbformat": 4,
 "nbformat_minor": 2
}
